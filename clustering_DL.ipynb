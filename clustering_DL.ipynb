{
 "cells": [
  {
   "cell_type": "code",
   "execution_count": 13,
   "metadata": {},
   "outputs": [],
   "source": [
    "from keras.preprocessing import image\n",
    "from keras.applications.vgg16 import VGG16\n",
    "from keras.applications.resnet50 import ResNet50\n",
    "from keras.applications.resnet50 import preprocess_input\n",
    "import numpy as np\n",
    "from os import listdir\n",
    "from sklearn.cluster import KMeans\n",
    "from sklearn import metrics\n",
    "import matplotlib.pyplot as plt\n",
    "import pandas as pd\n",
    "import cv2\n",
    "from random import sample\n",
    "from os.path import join\n",
    "from scipy import spatial\n",
    "from sklearn.externals import joblib"
   ]
  },
  {
   "cell_type": "code",
   "execution_count": 3,
   "metadata": {},
   "outputs": [],
   "source": [
    "model = VGG16(weights='imagenet', include_top=False)"
   ]
  },
  {
   "cell_type": "code",
   "execution_count": 15,
   "metadata": {},
   "outputs": [],
   "source": [
    "#Get images from individual footwear folder and input in the model and get output from the last layer . \n",
    "\n",
    "def get_vec_footwear(footwear_dir):\n",
    "    \n",
    "    resnet50_feature_list = []\n",
    "    filenames = listdir(footwear_dir)\n",
    "    for i,fname in enumerate(filenames):\n",
    "        try :\n",
    "            img = image.load_img(footwear_dir+'/'+fname,target_size=(224,224))\n",
    "#             img = image.load_img(footwear_dir+'/'+fname)\n",
    "            img_data = image.img_to_array(img)\n",
    "            img_data = np.expand_dims(img_data,axis=0)\n",
    "            img_data = preprocess_input(img_data)\n",
    "            resnet50_feature = model_res.predict(img_data)\n",
    "            resnet50_feature_np = np.array(resnet50_feature)\n",
    "            resnet50_feature_list.append(resnet50_feature_np.flatten())\n",
    "            \n",
    "        except IOError :\n",
    "            continue\n",
    "            \n",
    "    resnet50_feature_list_np = np.array(resnet50_feature_list)\n",
    "    return resnet50_feature_list_np\n"
   ]
  },
  {
   "cell_type": "code",
   "execution_count": 5,
   "metadata": {},
   "outputs": [
    {
     "data": {
      "text/plain": [
       "(2260, 25088)"
      ]
     },
     "execution_count": 5,
     "metadata": {},
     "output_type": "execute_result"
    }
   ],
   "source": [
    "vgg16_feature_list_np = get_vec_footwear('C:/Users/sures/Desktop/Fynd-Internshp/Problem-1/lace_data_rgb/')\n",
    "vgg16_feature_list_np.shape"
   ]
  },
  {
   "cell_type": "code",
   "execution_count": 6,
   "metadata": {},
   "outputs": [],
   "source": [
    "#Apply kmeans on resnet vector to get clusters\n",
    "    \n",
    "def get_clusters(a,b,resnet50_feature_list_np):\n",
    "    silloute_score = []\n",
    "    objects = []\n",
    "    cluster_errors = []\n",
    "    for i in range(a,b):\n",
    "        objects.append(i) \n",
    "        print(i)\n",
    "        kmeans = KMeans(n_clusters=i, random_state=0, n_jobs=-1).fit(resnet50_feature_list_np)\n",
    "        silloute_score.append(metrics.silhouette_score(resnet50_feature_list_np , kmeans.labels_,metric='euclidean'))\n",
    "        cluster_errors.append( kmeans.inertia_ )\n",
    "        \n",
    "    return silloute_score , objects , cluster_errors"
   ]
  },
  {
   "cell_type": "code",
   "execution_count": 8,
   "metadata": {},
   "outputs": [
    {
     "name": "stdout",
     "output_type": "stream",
     "text": [
      "2\n",
      "3\n",
      "4\n",
      "5\n",
      "6\n",
      "7\n",
      "8\n",
      "9\n"
     ]
    }
   ],
   "source": [
    "silloute_score_vgg , objects_vgg , cluster_errors_vgg = get_clusters(2,10,vgg16_feature_list_np)"
   ]
  },
  {
   "cell_type": "code",
   "execution_count": 11,
   "metadata": {},
   "outputs": [],
   "source": [
    "#finding optimal cluster number using silloute score \n",
    "\n",
    "def plot_silloute(silloute_score , objects) :\n",
    "    \n",
    "    y_pos = np.arange(len(objects))\n",
    "    plt.bar(y_pos, silloute_score, align='center', alpha=0.5)\n",
    "    plt.xticks(y_pos, objects)\n",
    "    plt.ylabel('Silloute Score')\n",
    "    plt.title('No of Clusters')\n",
    "\n",
    "    plt.show()"
   ]
  },
  {
   "cell_type": "code",
   "execution_count": 12,
   "metadata": {},
   "outputs": [
    {
     "data": {
      "image/png": "[encoded data removed]",
      "text/plain": [
       "<Figure size 432x288 with 1 Axes>"
      ]
     },
     "metadata": {
      "needs_background": "light"
     },
     "output_type": "display_data"
    }
   ],
   "source": [
    "plot_silloute(silloute_score_vgg , objects_vgg)"
   ]
  },
  {
   "cell_type": "code",
   "execution_count": 14,
   "metadata": {},
   "outputs": [
    {
     "name": "stderr",
     "output_type": "stream",
     "text": [
      "C:\\Users\\sures\\Anaconda3\\lib\\site-packages\\keras_applications\\resnet50.py:263: UserWarning: The output shape of `ResNet50(include_top=False)` has been changed since Keras 2.2.0.\n",
      "  warnings.warn('The output shape of `ResNet50(include_top=False)` '\n"
     ]
    }
   ],
   "source": [
    "model_res = ResNet50(weights='imagenet', include_top=False)"
   ]
  },
  {
   "cell_type": "code",
   "execution_count": 16,
   "metadata": {},
   "outputs": [
    {
     "data": {
      "text/plain": [
       "(2260, 100352)"
      ]
     },
     "execution_count": 16,
     "metadata": {},
     "output_type": "execute_result"
    }
   ],
   "source": [
    "resnet_feature_list_np = get_vec_footwear('C:/Users/sures/Desktop/Fynd-Internshp/Problem-1/lace_data_rgb/')\n",
    "resnet_feature_list_np.shape"
   ]
  },
  {
   "cell_type": "code",
   "execution_count": 17,
   "metadata": {},
   "outputs": [
    {
     "name": "stdout",
     "output_type": "stream",
     "text": [
      "2\n",
      "3\n",
      "4\n",
      "5\n",
      "6\n",
      "7\n",
      "8\n",
      "9\n"
     ]
    }
   ],
   "source": [
    "silloute_score_resnet , objects_resnet , cluster_errors_vgg = get_clusters(2,10,resnet_feature_list_np)"
   ]
  },
  {
   "cell_type": "code",
   "execution_count": 18,
   "metadata": {},
   "outputs": [
    {
     "data": {
      "image/png": "[encoded data removed]",
      "text/plain": [
       "<Figure size 432x288 with 1 Axes>"
      ]
     },
     "metadata": {
      "needs_background": "light"
     },
     "output_type": "display_data"
    }
   ],
   "source": [
    "plot_silloute(silloute_score_resnet , objects_resnet)"
   ]
  },
  {
   "cell_type": "code",
   "execution_count": 33,
   "metadata": {},
   "outputs": [],
   "source": [
    "def plot_silloute_multiple(silloute_score_vgg , objects_vgg,silloute_score_resnet,objects_resnet) :\n",
    "    \n",
    "    y_pos = np.arange(len(objects_resnet))\n",
    "    p1 = plt.bar(y_pos+0, silloute_score_vgg, color = 'b', width = 0.25)\n",
    "    p2 = plt.bar(y_pos+0.25, silloute_score_resnet, color = 'r', width = 0.25)\n",
    "    plt.xticks(y_pos, objects_vgg)\n",
    "    plt.ylabel('Silloute Score')\n",
    "    plt.title('No of Clusters')\n",
    "    plt.legend((p1[0], p2[0]), ('VGG16', 'ResNet50'))\n",
    "    plt.show()"
   ]
  },
  {
   "cell_type": "code",
   "execution_count": 34,
   "metadata": {},
   "outputs": [
    {
     "data": {
      "image/png": "[encoded data removed]",
      "text/plain": [
       "<Figure size 432x288 with 1 Axes>"
      ]
     },
     "metadata": {
      "needs_background": "light"
     },
     "output_type": "display_data"
    }
   ],
   "source": [
    "plot_silloute_multiple(silloute_score_vgg,objects_vgg,silloute_score_resnet , objects_resnet)"
   ]
  },
  {
   "cell_type": "code",
   "execution_count": 35,
   "metadata": {},
   "outputs": [
    {
     "name": "stdout",
     "output_type": "stream",
     "text": [
      "10\n",
      "11\n",
      "12\n",
      "13\n",
      "14\n",
      "15\n",
      "16\n",
      "17\n"
     ]
    }
   ],
   "source": [
    "silloute_score_vgg , objects_vgg , cluster_errors_vgg = get_clusters(10,18,vgg16_feature_list_np)"
   ]
  },
  {
   "cell_type": "code",
   "execution_count": 36,
   "metadata": {},
   "outputs": [
    {
     "name": "stdout",
     "output_type": "stream",
     "text": [
      "10\n",
      "11\n",
      "12\n",
      "13\n",
      "14\n",
      "15\n",
      "16\n",
      "17\n"
     ]
    }
   ],
   "source": [
    "silloute_score_resnet , objects_resnet , cluster_errors_vgg = get_clusters(10,18,resnet_feature_list_np)"
   ]
  },
  {
   "cell_type": "code",
   "execution_count": 37,
   "metadata": {},
   "outputs": [
    {
     "data": {
      "image/png": "[encoded data removed]",
      "text/plain": [
       "<Figure size 432x288 with 1 Axes>"
      ]
     },
     "metadata": {
      "needs_background": "light"
     },
     "output_type": "display_data"
    }
   ],
   "source": [
    "plot_silloute_multiple(silloute_score_vgg,objects_vgg,silloute_score_resnet , objects_resnet)"
   ]
  }
 ],
 "metadata": {
  "kernelspec": {
   "display_name": "Python 3",
   "language": "python",
   "name": "python3"
  },
  "language_info": {
   "codemirror_mode": {
    "name": "ipython",
    "version": 3
   },
   "file_extension": ".py",
   "mimetype": "text/x-python",
   "name": "python",
   "nbconvert_exporter": "python",
   "pygments_lexer": "ipython3",
   "version": "3.6.7"
  }
 },
 "nbformat": 4,
 "nbformat_minor": 2
}
